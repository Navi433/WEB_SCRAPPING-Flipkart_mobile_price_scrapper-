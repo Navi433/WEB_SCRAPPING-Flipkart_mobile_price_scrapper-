{
  "nbformat": 4,
  "nbformat_minor": 0,
  "metadata": {
    "kernelspec": {
      "display_name": "Python 3",
      "language": "python",
      "name": "python3"
    },
    "language_info": {
      "codemirror_mode": {
        "name": "ipython",
        "version": 3
      },
      "file_extension": ".py",
      "mimetype": "text/x-python",
      "name": "python",
      "nbconvert_exporter": "python",
      "pygments_lexer": "ipython3",
      "version": "3.7.3"
    },
    "colab": {
      "name": "Webscraping _Mobile_Prices.ipynb",
      "provenance": []
    },
    "accelerator": "TPU"
  },
  "cells": [
    {
      "cell_type": "code",
      "metadata": {
        "id": "dA-Dq1xa4e5J",
        "colab_type": "code",
        "colab": {}
      },
      "source": [
        "import requests\n",
        "from bs4 import BeautifulSoup as bs\n",
        "from urllib.request import urlopen as uReq\n"
      ],
      "execution_count": 0,
      "outputs": []
    },
    {
      "cell_type": "code",
      "metadata": {
        "id": "RSx8uNWy4e5Q",
        "colab_type": "code",
        "colab": {}
      },
      "source": [
        "searchString='iphone'"
      ],
      "execution_count": 0,
      "outputs": []
    },
    {
      "cell_type": "code",
      "metadata": {
        "id": "IRN06Z7e4e5X",
        "colab_type": "code",
        "colab": {
          "base_uri": "https://localhost:8080/",
          "height": 34
        },
        "outputId": "f4b18caa-134b-486c-eb1c-21ab4cd84b76"
      },
      "source": [
        "flipkart_url = \"https://www.flipkart.com/search?q=\" + searchString\n",
        "print(flipkart_url)\n",
        "uClient = uReq(flipkart_url)\n",
        "flipkartPage = uClient.read()\n",
        "uClient.close()\n"
      ],
      "execution_count": 3,
      "outputs": [
        {
          "output_type": "stream",
          "text": [
            "https://www.flipkart.com/search?q=iphone\n"
          ],
          "name": "stdout"
        }
      ]
    },
    {
      "cell_type": "code",
      "metadata": {
        "id": "yHPZuwp44e5d",
        "colab_type": "code",
        "colab": {}
      },
      "source": [
        "flipkart_html = bs(flipkartPage, \"html.parser\")\n",
        "bigboxes = flipkart_html.find_all(\"div\", {\"class\": \"bhgxx2 col-12-12\"})\n",
        "del bigboxes[0:2]\n",
        "\n"
      ],
      "execution_count": 0,
      "outputs": []
    },
    {
      "cell_type": "code",
      "metadata": {
        "id": "zBY9LMo-4e5i",
        "colab_type": "code",
        "colab": {
          "base_uri": "https://localhost:8080/",
          "height": 34
        },
        "outputId": "26e158e4-4d2a-4ee1-ee47-c986e6d7223c"
      },
      "source": [
        "len(bigboxes)"
      ],
      "execution_count": 5,
      "outputs": [
        {
          "output_type": "execute_result",
          "data": {
            "text/plain": [
              "13"
            ]
          },
          "metadata": {
            "tags": []
          },
          "execution_count": 5
        }
      ]
    },
    {
      "cell_type": "code",
      "metadata": {
        "id": "LOYVEKn74e5o",
        "colab_type": "code",
        "colab": {
          "base_uri": "https://localhost:8080/",
          "height": 54
        },
        "outputId": "9eabe5ac-f2a4-47fa-ff53-fe8903ef6e25"
      },
      "source": [
        "productLink = \"https://www.flipkart.com\" + bigboxes[0].div.div.a['href']\n",
        "productLink"
      ],
      "execution_count": 6,
      "outputs": [
        {
          "output_type": "execute_result",
          "data": {
            "text/plain": [
              "'https://www.flipkart.com/apple-iphone-se-black-64-gb/p/itm832dd5963a08d?pid=MOBFRFXHCKWDAC4A&lid=LSTMOBFRFXHCKWDAC4AEQROVZ&marketplace=FLIPKART&srno=s_1_1&otracker=search&fm=organic&iid=6e2089a3-b27e-4c04-ab93-fddf8217cb76.MOBFRFXHCKWDAC4A.SEARCH&ssid=xspt1z0k9c0000001590058757594&qH=0b3f45b266a97d70'"
            ]
          },
          "metadata": {
            "tags": []
          },
          "execution_count": 6
        }
      ]
    },
    {
      "cell_type": "code",
      "metadata": {
        "id": "yNT9f2aZ4e5t",
        "colab_type": "code",
        "colab": {}
      },
      "source": [
        "prodRes = requests.get(productLink)\n",
        "prod_html = bs(prodRes.text, \"html.parser\")\n",
        "\n",
        "cost = prod_html.find_all('div', {'class': \"_1vC4OE _3qQ9m1\"})"
      ],
      "execution_count": 0,
      "outputs": []
    },
    {
      "cell_type": "code",
      "metadata": {
        "id": "EGEBhLiS4e5z",
        "colab_type": "code",
        "colab": {
          "base_uri": "https://localhost:8080/",
          "height": 34
        },
        "outputId": "b06941c9-a1a2-4665-a0cc-859fa7ac2e69"
      },
      "source": [
        "cost[0].text"
      ],
      "execution_count": 8,
      "outputs": [
        {
          "output_type": "execute_result",
          "data": {
            "text/plain": [
              "'₹42,500'"
            ]
          },
          "metadata": {
            "tags": []
          },
          "execution_count": 8
        }
      ]
    },
    {
      "cell_type": "code",
      "metadata": {
        "id": "KpK8ZB_84e54",
        "colab_type": "code",
        "colab": {}
      },
      "source": [
        "names=prod_html.find_all('span',{\"class\":\"_35KyD6\"})"
      ],
      "execution_count": 0,
      "outputs": []
    },
    {
      "cell_type": "code",
      "metadata": {
        "id": "9AoREaU44e58",
        "colab_type": "code",
        "colab": {
          "base_uri": "https://localhost:8080/",
          "height": 34
        },
        "outputId": "64f76485-0852-4da4-82ec-fcc62fcc7224"
      },
      "source": [
        "names[0].text"
      ],
      "execution_count": 10,
      "outputs": [
        {
          "output_type": "execute_result",
          "data": {
            "text/plain": [
              "'Apple iPhone SE (Black, 64 GB)'"
            ]
          },
          "metadata": {
            "tags": []
          },
          "execution_count": 10
        }
      ]
    },
    {
      "cell_type": "code",
      "metadata": {
        "id": "XeJ99-JW4e6B",
        "colab_type": "code",
        "colab": {}
      },
      "source": [
        "def price(i):\n",
        "    productLink = \"https://www.flipkart.com\" + bigboxes[i].div.div.a['href']\n",
        "    prodRes = requests.get(productLink)\n",
        "    prod_html = bs(prodRes.text, \"html.parser\")\n",
        "    prices = prod_html.find_all('div', {'class': \"_1vC4OE _3qQ9m1\"})\n",
        "    #names=prod_html.find_all('span',{\"class\":\"_35KyD6\"})\n",
        "    return prices[0].text\n",
        "    "
      ],
      "execution_count": 0,
      "outputs": []
    },
    {
      "cell_type": "code",
      "metadata": {
        "id": "QJGmJ0Q34e6F",
        "colab_type": "code",
        "colab": {
          "base_uri": "https://localhost:8080/",
          "height": 34
        },
        "outputId": "61ff5514-3e22-4e0d-81d6-97fd398a6b2c"
      },
      "source": [
        "price(1)"
      ],
      "execution_count": 12,
      "outputs": [
        {
          "output_type": "execute_result",
          "data": {
            "text/plain": [
              "'₹36,999'"
            ]
          },
          "metadata": {
            "tags": []
          },
          "execution_count": 12
        }
      ]
    },
    {
      "cell_type": "code",
      "metadata": {
        "id": "XLgrXC0X4e6L",
        "colab_type": "code",
        "colab": {}
      },
      "source": [
        "Flipkart_prices=[]\n",
        "for i in range(10):\n",
        "    prices=price(i)\n",
        "    Flipkart_prices.append(prices)"
      ],
      "execution_count": 0,
      "outputs": []
    },
    {
      "cell_type": "code",
      "metadata": {
        "id": "hzN8fLil4e6P",
        "colab_type": "code",
        "colab": {}
      },
      "source": [
        "def product_name(i):\n",
        "    productLink = \"https://www.flipkart.com\" + bigboxes[i].div.div.a['href']\n",
        "    prodRes = requests.get(productLink)\n",
        "    prod_html = bs(prodRes.text, \"html.parser\")\n",
        "    names=prod_html.find_all('span',{\"class\":\"_35KyD6\"})\n",
        "    return names[0].text\n",
        "    \n",
        "    "
      ],
      "execution_count": 0,
      "outputs": []
    },
    {
      "cell_type": "code",
      "metadata": {
        "id": "F2x7XtFd4e6S",
        "colab_type": "code",
        "colab": {}
      },
      "source": [
        "Mobile_name=[]\n",
        "for i in range(10):\n",
        "    names=product_name(i)\n",
        "    Mobile_name.append(names)"
      ],
      "execution_count": 0,
      "outputs": []
    },
    {
      "cell_type": "code",
      "metadata": {
        "id": "VJYLXgtb4e6X",
        "colab_type": "code",
        "colab": {}
      },
      "source": [
        "import pandas as pd"
      ],
      "execution_count": 0,
      "outputs": []
    },
    {
      "cell_type": "code",
      "metadata": {
        "id": "UgS5h57-4e6b",
        "colab_type": "code",
        "colab": {
          "base_uri": "https://localhost:8080/",
          "height": 359
        },
        "outputId": "a5a74bfc-b73d-4bf3-9c78-3798f701ae69"
      },
      "source": [
        "df = pd.DataFrame(list(zip(Mobile_name, Flipkart_prices)), \n",
        "               columns =['Mobile_name', 'Flipkart_price']) \n",
        "df"
      ],
      "execution_count": 22,
      "outputs": [
        {
          "output_type": "execute_result",
          "data": {
            "text/html": [
              "<div>\n",
              "<style scoped>\n",
              "    .dataframe tbody tr th:only-of-type {\n",
              "        vertical-align: middle;\n",
              "    }\n",
              "\n",
              "    .dataframe tbody tr th {\n",
              "        vertical-align: top;\n",
              "    }\n",
              "\n",
              "    .dataframe thead th {\n",
              "        text-align: right;\n",
              "    }\n",
              "</style>\n",
              "<table border=\"1\" class=\"dataframe\">\n",
              "  <thead>\n",
              "    <tr style=\"text-align: right;\">\n",
              "      <th></th>\n",
              "      <th>Mobile_name</th>\n",
              "      <th>Flipkart_price</th>\n",
              "    </tr>\n",
              "  </thead>\n",
              "  <tbody>\n",
              "    <tr>\n",
              "      <th>0</th>\n",
              "      <td>Apple iPhone SE (Black, 64 GB)</td>\n",
              "      <td>₹42,500</td>\n",
              "    </tr>\n",
              "    <tr>\n",
              "      <th>1</th>\n",
              "      <td>Apple iPhone 7 Plus (Black, 32 GB)</td>\n",
              "      <td>₹36,999</td>\n",
              "    </tr>\n",
              "    <tr>\n",
              "      <th>2</th>\n",
              "      <td>Apple iPhone 11 (Purple, 64 GB)</td>\n",
              "      <td>₹68,300</td>\n",
              "    </tr>\n",
              "    <tr>\n",
              "      <th>3</th>\n",
              "      <td>Flipkart SmartBuy Tempered Glass Guard for App...</td>\n",
              "      <td>₹219</td>\n",
              "    </tr>\n",
              "    <tr>\n",
              "      <th>4</th>\n",
              "      <td>Apple iPhone XS (Silver, 64 GB)</td>\n",
              "      <td>₹62,999</td>\n",
              "    </tr>\n",
              "    <tr>\n",
              "      <th>5</th>\n",
              "      <td>Apple iPhone XR (Yellow, 64 GB)</td>\n",
              "      <td>₹52,500</td>\n",
              "    </tr>\n",
              "    <tr>\n",
              "      <th>6</th>\n",
              "      <td>Apple iPhone 11 (Purple, 128 GB)</td>\n",
              "      <td>₹73,600</td>\n",
              "    </tr>\n",
              "    <tr>\n",
              "      <th>7</th>\n",
              "      <td>Apple iPhone 11 (Red, 64 GB)</td>\n",
              "      <td>₹68,300</td>\n",
              "    </tr>\n",
              "    <tr>\n",
              "      <th>8</th>\n",
              "      <td>Apple iPhone XR ((PRODUCT)RED, 64 GB)</td>\n",
              "      <td>₹52,500</td>\n",
              "    </tr>\n",
              "    <tr>\n",
              "      <th>9</th>\n",
              "      <td>Apple iPhone 11 Pro (Midnight Green, 64 GB)</td>\n",
              "      <td>₹1,06,600</td>\n",
              "    </tr>\n",
              "  </tbody>\n",
              "</table>\n",
              "</div>"
            ],
            "text/plain": [
              "                                         Mobile_name Flipkart_price\n",
              "0                     Apple iPhone SE (Black, 64 GB)        ₹42,500\n",
              "1                 Apple iPhone 7 Plus (Black, 32 GB)        ₹36,999\n",
              "2                    Apple iPhone 11 (Purple, 64 GB)        ₹68,300\n",
              "3  Flipkart SmartBuy Tempered Glass Guard for App...           ₹219\n",
              "4                    Apple iPhone XS (Silver, 64 GB)        ₹62,999\n",
              "5                    Apple iPhone XR (Yellow, 64 GB)        ₹52,500\n",
              "6                   Apple iPhone 11 (Purple, 128 GB)        ₹73,600\n",
              "7                       Apple iPhone 11 (Red, 64 GB)        ₹68,300\n",
              "8              Apple iPhone XR ((PRODUCT)RED, 64 GB)        ₹52,500\n",
              "9        Apple iPhone 11 Pro (Midnight Green, 64 GB)      ₹1,06,600"
            ]
          },
          "metadata": {
            "tags": []
          },
          "execution_count": 22
        }
      ]
    },
    {
      "cell_type": "code",
      "metadata": {
        "id": "71BjLCCF5Jy7",
        "colab_type": "code",
        "colab": {
          "base_uri": "https://localhost:8080/",
          "height": 328
        },
        "outputId": "681ea89a-42c4-456a-afa1-0ca48f75ed81"
      },
      "source": [
        "df.drop(index=3,inplace=True)\n",
        "df"
      ],
      "execution_count": 23,
      "outputs": [
        {
          "output_type": "execute_result",
          "data": {
            "text/html": [
              "<div>\n",
              "<style scoped>\n",
              "    .dataframe tbody tr th:only-of-type {\n",
              "        vertical-align: middle;\n",
              "    }\n",
              "\n",
              "    .dataframe tbody tr th {\n",
              "        vertical-align: top;\n",
              "    }\n",
              "\n",
              "    .dataframe thead th {\n",
              "        text-align: right;\n",
              "    }\n",
              "</style>\n",
              "<table border=\"1\" class=\"dataframe\">\n",
              "  <thead>\n",
              "    <tr style=\"text-align: right;\">\n",
              "      <th></th>\n",
              "      <th>Mobile_name</th>\n",
              "      <th>Flipkart_price</th>\n",
              "    </tr>\n",
              "  </thead>\n",
              "  <tbody>\n",
              "    <tr>\n",
              "      <th>0</th>\n",
              "      <td>Apple iPhone SE (Black, 64 GB)</td>\n",
              "      <td>₹42,500</td>\n",
              "    </tr>\n",
              "    <tr>\n",
              "      <th>1</th>\n",
              "      <td>Apple iPhone 7 Plus (Black, 32 GB)</td>\n",
              "      <td>₹36,999</td>\n",
              "    </tr>\n",
              "    <tr>\n",
              "      <th>2</th>\n",
              "      <td>Apple iPhone 11 (Purple, 64 GB)</td>\n",
              "      <td>₹68,300</td>\n",
              "    </tr>\n",
              "    <tr>\n",
              "      <th>4</th>\n",
              "      <td>Apple iPhone XS (Silver, 64 GB)</td>\n",
              "      <td>₹62,999</td>\n",
              "    </tr>\n",
              "    <tr>\n",
              "      <th>5</th>\n",
              "      <td>Apple iPhone XR (Yellow, 64 GB)</td>\n",
              "      <td>₹52,500</td>\n",
              "    </tr>\n",
              "    <tr>\n",
              "      <th>6</th>\n",
              "      <td>Apple iPhone 11 (Purple, 128 GB)</td>\n",
              "      <td>₹73,600</td>\n",
              "    </tr>\n",
              "    <tr>\n",
              "      <th>7</th>\n",
              "      <td>Apple iPhone 11 (Red, 64 GB)</td>\n",
              "      <td>₹68,300</td>\n",
              "    </tr>\n",
              "    <tr>\n",
              "      <th>8</th>\n",
              "      <td>Apple iPhone XR ((PRODUCT)RED, 64 GB)</td>\n",
              "      <td>₹52,500</td>\n",
              "    </tr>\n",
              "    <tr>\n",
              "      <th>9</th>\n",
              "      <td>Apple iPhone 11 Pro (Midnight Green, 64 GB)</td>\n",
              "      <td>₹1,06,600</td>\n",
              "    </tr>\n",
              "  </tbody>\n",
              "</table>\n",
              "</div>"
            ],
            "text/plain": [
              "                                   Mobile_name Flipkart_price\n",
              "0               Apple iPhone SE (Black, 64 GB)        ₹42,500\n",
              "1           Apple iPhone 7 Plus (Black, 32 GB)        ₹36,999\n",
              "2              Apple iPhone 11 (Purple, 64 GB)        ₹68,300\n",
              "4              Apple iPhone XS (Silver, 64 GB)        ₹62,999\n",
              "5              Apple iPhone XR (Yellow, 64 GB)        ₹52,500\n",
              "6             Apple iPhone 11 (Purple, 128 GB)        ₹73,600\n",
              "7                 Apple iPhone 11 (Red, 64 GB)        ₹68,300\n",
              "8        Apple iPhone XR ((PRODUCT)RED, 64 GB)        ₹52,500\n",
              "9  Apple iPhone 11 Pro (Midnight Green, 64 GB)      ₹1,06,600"
            ]
          },
          "metadata": {
            "tags": []
          },
          "execution_count": 23
        }
      ]
    },
    {
      "cell_type": "code",
      "metadata": {
        "id": "cQ98bUKO4e7J",
        "colab_type": "code",
        "colab": {}
      },
      "source": [
        ""
      ],
      "execution_count": 0,
      "outputs": []
    }
  ]
}